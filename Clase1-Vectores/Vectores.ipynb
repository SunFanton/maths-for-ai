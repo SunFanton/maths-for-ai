{
 "cells": [
  {
   "cell_type": "markdown",
   "id": "6f4a91c5-bbf5-45b7-be2f-8c012fdd8437",
   "metadata": {},
   "source": [
    "# Clase 1 - Vectores"
   ]
  },
  {
   "cell_type": "markdown",
   "id": "51d30a0c-8417-4dfc-b01f-78e9a1409a29",
   "metadata": {},
   "source": [
    "![title](./Vectores-parte1.png)"
   ]
  },
  {
   "cell_type": "markdown",
   "id": "5f14e96c-28d9-43a4-820e-69dcc04e1713",
   "metadata": {},
   "source": [
    "![title](./Vectores-parte2.png)"
   ]
  },
  {
   "cell_type": "code",
   "execution_count": null,
   "id": "c3eff0d6-6e85-4cb3-9b7b-d4de5d3330ed",
   "metadata": {},
   "outputs": [],
   "source": []
  }
 ],
 "metadata": {
  "kernelspec": {
   "display_name": "Python 3 (ipykernel)",
   "language": "python",
   "name": "python3"
  },
  "language_info": {
   "codemirror_mode": {
    "name": "ipython",
    "version": 3
   },
   "file_extension": ".py",
   "mimetype": "text/x-python",
   "name": "python",
   "nbconvert_exporter": "python",
   "pygments_lexer": "ipython3",
   "version": "3.12.0"
  }
 },
 "nbformat": 4,
 "nbformat_minor": 5
}
