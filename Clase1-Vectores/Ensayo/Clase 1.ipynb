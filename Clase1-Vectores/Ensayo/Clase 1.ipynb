{
 "cells": [
  {
   "cell_type": "markdown",
   "id": "8a9aa071-66a7-458e-aa4f-7386e639fff2",
   "metadata": {},
   "source": [
    "# Clase 1 - Vectores"
   ]
  },
  {
   "cell_type": "markdown",
   "id": "210d2d71-38c7-471a-9c59-3313b44dacd3",
   "metadata": {},
   "source": [
    "![title](./Clase1-parte1.png)"
   ]
  },
  {
   "cell_type": "markdown",
   "id": "5027b25c-9a42-49d9-a790-6f93fed8880c",
   "metadata": {},
   "source": [
    "![title](./Clase1-parte2.png)"
   ]
  },
  {
   "cell_type": "markdown",
   "id": "4f68ecc8-a97a-4488-b19c-4e84a0c23242",
   "metadata": {},
   "source": [
    "![title](./Clase1-parte3.png)"
   ]
  },
  {
   "cell_type": "markdown",
   "id": "e45b1a59-d202-414a-9939-a6c20027eee5",
   "metadata": {},
   "source": [
    "![title](./Clase1-parte4.png)"
   ]
  },
  {
   "cell_type": "markdown",
   "id": "62ea01e7-dc21-4fdd-a9a6-fea75f10a599",
   "metadata": {},
   "source": [
    "![title](./Clase1-parte5.png)"
   ]
  },
  {
   "cell_type": "code",
   "execution_count": 2,
   "id": "037c8196-7f2e-403e-b7ad-524f824d4fdf",
   "metadata": {},
   "outputs": [],
   "source": [
    "import numpy as np\n",
    "# numpy es una libreria para realizar todo tipo de operaciones matematicas complejas en Python\n",
    "\n",
    "# Creamos un vector (array unidimensional), que pertenece a R^3\n",
    "v = np.array([1,-1,2])\n",
    "w = np.array([2,5,2])"
   ]
  },
  {
   "cell_type": "code",
   "execution_count": 3,
   "id": "64515c68-2fc4-4107-b28d-f007f3213a51",
   "metadata": {},
   "outputs": [
    {
     "name": "stdout",
     "output_type": "stream",
     "text": [
      "[3 4 4]\n"
     ]
    }
   ],
   "source": [
    "print(v+w) # adicion de ambos vectores "
   ]
  },
  {
   "cell_type": "code",
   "execution_count": 4,
   "id": "a7dcd5a5-2bb6-41e3-81b3-61618b02c38d",
   "metadata": {},
   "outputs": [
    {
     "name": "stdout",
     "output_type": "stream",
     "text": [
      "[-1 -6  0]\n"
     ]
    }
   ],
   "source": [
    "print(v-w)"
   ]
  },
  {
   "cell_type": "code",
   "execution_count": 5,
   "id": "2738331d-60e7-4bba-bd83-ed21116894cc",
   "metadata": {},
   "outputs": [
    {
     "name": "stdout",
     "output_type": "stream",
     "text": [
      "[ 3 -3  6]\n"
     ]
    }
   ],
   "source": [
    "# Multiplicacion por un escalar\n",
    "print(3*v)"
   ]
  },
  {
   "cell_type": "code",
   "execution_count": 6,
   "id": "2fb4f3c7-c28e-4620-9826-a702a9d15e65",
   "metadata": {},
   "outputs": [
    {
     "name": "stdout",
     "output_type": "stream",
     "text": [
      "2.449489742783178\n"
     ]
    }
   ],
   "source": [
    "# Norma o longitud\n",
    "print(np.linalg.norm(v))"
   ]
  },
  {
   "cell_type": "code",
   "execution_count": 1,
   "id": "a3d2c9d3-934b-44cb-9f8a-e1607f0aab33",
   "metadata": {},
   "outputs": [
    {
     "ename": "NameError",
     "evalue": "name 'np' is not defined",
     "output_type": "error",
     "traceback": [
      "\u001b[0;31m---------------------------------------------------------------------------\u001b[0m",
      "\u001b[0;31mNameError\u001b[0m                                 Traceback (most recent call last)",
      "Cell \u001b[0;32mIn[1], line 2\u001b[0m\n\u001b[1;32m      1\u001b[0m \u001b[38;5;66;03m# Producto punto\u001b[39;00m\n\u001b[0;32m----> 2\u001b[0m s \u001b[38;5;241m=\u001b[39m \u001b[43mnp\u001b[49m\u001b[38;5;241m.\u001b[39mdot(v,w)\n\u001b[1;32m      3\u001b[0m \u001b[38;5;28mprint\u001b[39m(s)\n",
      "\u001b[0;31mNameError\u001b[0m: name 'np' is not defined"
     ]
    }
   ],
   "source": [
    "# Producto punto\n",
    "s = np.dot(v,w)\n",
    "print(s)"
   ]
  },
  {
   "cell_type": "code",
   "execution_count": null,
   "id": "e6eb8108-88a4-4a70-a14d-305123fc0ce3",
   "metadata": {},
   "outputs": [],
   "source": []
  }
 ],
 "metadata": {
  "kernelspec": {
   "display_name": "Python 3 (ipykernel)",
   "language": "python",
   "name": "python3"
  },
  "language_info": {
   "codemirror_mode": {
    "name": "ipython",
    "version": 3
   },
   "file_extension": ".py",
   "mimetype": "text/x-python",
   "name": "python",
   "nbconvert_exporter": "python",
   "pygments_lexer": "ipython3",
   "version": "3.12.0"
  }
 },
 "nbformat": 4,
 "nbformat_minor": 5
}
